{
 "cells": [
  {
   "cell_type": "code",
   "execution_count": 1,
   "metadata": {},
   "outputs": [],
   "source": [
    "from pymatgen.ext.matproj import MPRester, Composition\n",
    "import numpy as np\n",
    "import pandas as pd\n",
    "from matplotlib import pyplot as plt\n",
    "import json\n",
    "import math\n",
    "import pprint\n",
    "%matplotlib inline  \n"
   ]
  },
  {
   "cell_type": "code",
   "execution_count": 2,
   "metadata": {},
   "outputs": [
    {
     "data": {
      "application/vnd.jupyter.widget-view+json": {
       "model_id": "f0f5624d7086438ebcc7edd1143f0bf2",
       "version_major": 2,
       "version_minor": 0
      },
      "text/plain": [
       "  0%|          | 0/3396 [00:00<?, ?it/s]"
      ]
     },
     "metadata": {},
     "output_type": "display_data"
    }
   ],
   "source": [
    "# get data from materials project\n",
    "with MPRester(\"8kovBjpngTHHQ1juZK\") as m:\n",
    "    piezo_data = m.query({\"piezo\": {\"$exists\": True}}, properties=[\"task_id\", \n",
    "                                                                          \"pretty_formula\", \n",
    "                                                                          \"spacegroup\", \n",
    "                                                                          \"band_gap\", \n",
    "                                                                          \"density\", \n",
    "                                                                          \"piezo\"])\n",
    "    with open('piezo-data.json', 'w') as f:\n",
    "        json.dump(piezo_data, f)"
   ]
  },
  {
   "cell_type": "code",
   "execution_count": 3,
   "metadata": {},
   "outputs": [
    {
     "name": "stdout",
     "output_type": "stream",
     "text": [
      "{'band_gap': 1.3028,\n",
      " 'density': 3.4827693354362577,\n",
      " 'piezo': {'eij_max': 0.14469000000000773,\n",
      "           'piezoelectric_tensor': [[0.0,\n",
      "                                     0.0,\n",
      "                                     0.0,\n",
      "                                     -0.10523999999999997,\n",
      "                                     0.0,\n",
      "                                     0.0],\n",
      "                                    [0.0,\n",
      "                                     0.0,\n",
      "                                     0.0,\n",
      "                                     0.0,\n",
      "                                     -0.10523999999999997,\n",
      "                                     0.0],\n",
      "                                    [0.0,\n",
      "                                     0.0,\n",
      "                                     0.0,\n",
      "                                     0.0,\n",
      "                                     0.0,\n",
      "                                     -0.14468999999999996]],\n",
      "           'v_max': [-0.0, 1.0, -1.0]},\n",
      " 'pretty_formula': 'MgSiAs2',\n",
      " 'spacegroup': {'crystal_system': 'tetragonal',\n",
      "                'hall': 'I -4 2bw',\n",
      "                'number': 122,\n",
      "                'point_group': '-42m',\n",
      "                'source': 'spglib',\n",
      "                'symbol': 'I-42d',\n",
      "                'symprec': 0.1},\n",
      " 'task_id': 'mp-1016197'}\n"
     ]
    }
   ],
   "source": [
    "# load data from json file \n",
    "# with open('piezo-data.json', 'r') as f:\n",
    "#     piezo_data = json.load(f)\n",
    "pprint.pprint(piezo_data[4])"
   ]
  },
  {
   "cell_type": "code",
   "execution_count": 4,
   "metadata": {},
   "outputs": [],
   "source": [
    "piezo_dict = {'formula': [], \n",
    "                'space group': [], \n",
    "                'piezoelectric modulus (C/m^2)': [], \n",
    "                'density (g/cm^3)': [], \n",
    "                'band gap (eV)': []}\n",
    "\n",
    "for i in range(len(piezo_data)):\n",
    "    \n",
    "    piezo_dict['formula'].append(str(piezo_data[i]['pretty_formula']) + '-' + str(piezo_data[i]['task_id'])) \n",
    "    piezo_dict['space group'].append(str(piezo_data[i]['spacegroup']['symbol']))\n",
    "    piezo_dict['piezoelectric modulus (C/m^2)'].append(round(piezo_data[i]['piezo']['eij_max'], 4))\n",
    "    piezo_dict['density (g/cm^3)'].append(round(piezo_data[i]['density'], 4))\n",
    "    piezo_dict['band gap (eV)'].append(round(piezo_data[i]['band_gap'], 4))"
   ]
  },
  {
   "cell_type": "code",
   "execution_count": 5,
   "metadata": {},
   "outputs": [],
   "source": [
    "df = pd.DataFrame(data = piezo_dict).sort_values(by = ['piezoelectric modulus (C/m^2)'], ascending = False)\n",
    "df.to_csv('piezo-data.csv', index = False)"
   ]
  }
 ],
 "metadata": {
  "kernelspec": {
   "display_name": "Python 3",
   "language": "python",
   "name": "python3"
  },
  "language_info": {
   "codemirror_mode": {
    "name": "ipython",
    "version": 3
   },
   "file_extension": ".py",
   "mimetype": "text/x-python",
   "name": "python",
   "nbconvert_exporter": "python",
   "pygments_lexer": "ipython3",
   "version": "3.7.9"
  }
 },
 "nbformat": 4,
 "nbformat_minor": 4
}
