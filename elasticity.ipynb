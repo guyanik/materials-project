{
 "cells": [
  {
   "cell_type": "code",
   "execution_count": 1,
   "metadata": {},
   "outputs": [],
   "source": [
    "from pymatgen.ext.matproj import MPRester, Composition\n",
    "import numpy as np\n",
    "import pandas as pd\n",
    "from matplotlib import pyplot as plt\n",
    "import json\n",
    "import math\n",
    "import pprint\n",
    "%matplotlib inline  \n"
   ]
  },
  {
   "cell_type": "code",
   "execution_count": 2,
   "metadata": {},
   "outputs": [
    {
     "data": {
      "application/vnd.jupyter.widget-view+json": {
       "model_id": "48da702ffe0d4b3e832ec7ba558a304d",
       "version_major": 2,
       "version_minor": 0
      },
      "text/plain": [
       "  0%|          | 0/13172 [00:00<?, ?it/s]"
      ]
     },
     "metadata": {},
     "output_type": "display_data"
    }
   ],
   "source": [
    "# get data from materials project\n",
    "with MPRester(\"8kovBjpngTHHQ1juZK\") as m:\n",
    "    elasticity_data = m.query({\"elasticity\": {\"$exists\": True}}, properties=[\"task_id\", \n",
    "                                                                          \"pretty_formula\", \n",
    "                                                                          \"spacegroup\", \n",
    "                                                                          \"band_gap\", \n",
    "                                                                          \"elasticity\", \n",
    "                                                                          \"density\"])\n",
    "    with open('elasticity-data.json', 'w') as f:\n",
    "        json.dump(elasticity_data, f)"
   ]
  },
  {
   "cell_type": "code",
   "execution_count": 3,
   "metadata": {},
   "outputs": [
    {
     "name": "stdout",
     "output_type": "stream",
     "text": [
      "{'band_gap': 0.0,\n",
      " 'density': 4.0085093080331395,\n",
      " 'elasticity': {'G_Reuss': 135.0,\n",
      "                'G_VRH': 176.0,\n",
      "                'G_Voigt': 216.0,\n",
      "                'G_Voigt_Reuss_Hill': 176.0,\n",
      "                'K_Reuss': 241.0,\n",
      "                'K_VRH': 241.0,\n",
      "                'K_Voigt': 241.0,\n",
      "                'K_Voigt_Reuss_Hill': 241.0,\n",
      "                'compliance_tensor': [[5.0, -1.8, -1.8, 0.0, 0.0, -0.0],\n",
      "                                      [-1.8, 5.0, -1.8, -0.0, 0.0, 0.0],\n",
      "                                      [-1.8, -1.8, 5.0, 0.0, -0.0, 0.0],\n",
      "                                      [0.0, -0.0, 0.0, 3.2, -0.0, -0.0],\n",
      "                                      [0.0, 0.0, -0.0, -0.0, 3.2, -0.0],\n",
      "                                      [-0.0, 0.0, 0.0, -0.0, -0.0, 3.2]],\n",
      "                'elastic_anisotropy': 2.99,\n",
      "                'elastic_tensor': [[338.0, 192.0, 192.0, 0.0, 0.0, 0.0],\n",
      "                                   [192.0, 338.0, 192.0, 0.0, 0.0, 0.0],\n",
      "                                   [192.0, 192.0, 338.0, 0.0, 0.0, 0.0],\n",
      "                                   [0.0, 0.0, 0.0, 311.0, 0.0, 0.0],\n",
      "                                   [0.0, 0.0, 0.0, 0.0, 311.0, 0.0],\n",
      "                                   [0.0, 0.0, 0.0, 0.0, 0.0, 311.0]],\n",
      "                'elastic_tensor_original': [[338.4160227615253,\n",
      "                                             192.2256939566406,\n",
      "                                             192.2256939566406,\n",
      "                                             0.0,\n",
      "                                             0.0,\n",
      "                                             0.0],\n",
      "                                            [192.22529731477687,\n",
      "                                             338.4153551336668,\n",
      "                                             192.22529731477687,\n",
      "                                             0.0,\n",
      "                                             0.0,\n",
      "                                             0.0],\n",
      "                                            [192.22722128249356,\n",
      "                                             192.22722128249356,\n",
      "                                             338.4163831435083,\n",
      "                                             0.0,\n",
      "                                             0.0,\n",
      "                                             0.0],\n",
      "                                            [1.14366845326649e-05,\n",
      "                                             1.53366906417856e-05,\n",
      "                                             1.4406689178117636e-05,\n",
      "                                             311.30377064202537,\n",
      "                                             0.0,\n",
      "                                             0.0],\n",
      "                                            [0.0024607938451834703,\n",
      "                                             0.0026825508583494372,\n",
      "                                             0.0022957535872893766,\n",
      "                                             0.0,\n",
      "                                             311.3029687241056,\n",
      "                                             0.0],\n",
      "                                            [0.0024492738271760925,\n",
      "                                             0.0022830635674595612,\n",
      "                                             0.0026666908335662223,\n",
      "                                             0.0,\n",
      "                                             0.0,\n",
      "                                             311.30297550744956]],\n",
      "                'homogeneous_poisson': 0.21,\n",
      "                'nsites': 2,\n",
      "                'poisson_ratio': 0.21,\n",
      "                'universal_anisotropy': 2.99,\n",
      "                'warnings': []},\n",
      " 'pretty_formula': 'SiC',\n",
      " 'spacegroup': {'crystal_system': 'cubic',\n",
      "                'hall': '-F 4 2 3',\n",
      "                'number': 225,\n",
      "                'point_group': 'm-3m',\n",
      "                'source': 'spglib',\n",
      "                'symbol': 'Fm-3m',\n",
      "                'symprec': 0.1},\n",
      " 'task_id': 'mp-1002206'}\n"
     ]
    }
   ],
   "source": [
    "# load data from json file \n",
    "# with open('elasticity-data.json', 'r') as f:\n",
    "#     elastic_data = json.load(f)\n",
    "pprint.pprint(elasticity_data[4])"
   ]
  },
  {
   "cell_type": "code",
   "execution_count": 4,
   "metadata": {},
   "outputs": [
    {
     "data": {
      "image/png": "[encoded data removed]",
      "text/plain": [
       "<Figure size 432x288 with 1 Axes>"
      ]
     },
     "metadata": {
      "needs_background": "light"
     },
     "output_type": "display_data"
    }
   ],
   "source": [
    "def stress_to_strain(stress):\n",
    "    strain = []\n",
    "    strain.append((1/young_modulus)*(stress[0] - poisson_ratio*(stress[1] + stress[2])))\n",
    "    strain.append((1/young_modulus)*(stress[1] - poisson_ratio*(stress[0] + stress[2])))\n",
    "    strain.append((1/young_modulus)*(stress[2] - poisson_ratio*(stress[0] + stress[1])))\n",
    "    strain.append((1/shear_modulus)*stress[3])\n",
    "    strain.append((1/shear_modulus)*stress[4])\n",
    "    strain.append((1/shear_modulus)*stress[5])\n",
    "    return strain\n",
    "\n",
    "def plot_stress_strain_curve(young_modulus):\n",
    "    stress_list = np.linspace(0, .002*young_modulus, 100)\n",
    "    strain_list = []\n",
    "    for stress_norm in stress_list:\n",
    "        s = stress_norm/math.sqrt(6)\n",
    "        stress = [s,s,s,s,s,s]\n",
    "        strain = stress_to_strain(stress)\n",
    "        strain_list.append(np.linalg.norm(strain))\n",
    "    return plt.plot(strain_list, 1000*stress_list)\n",
    "\n",
    "def yield_strength(young_modulus):\n",
    "    stress = .002*young_modulus\n",
    "    s = stress/math.sqrt(6)\n",
    "    strain = stress_to_strain([s,s,s,s,s,s])\n",
    "    strain = np.linalg.norm(np.array(strain))\n",
    "    return [round(stress*1000), round(strain, 4)]\n",
    "\n",
    "elasticity_dict = {'formula': [], \n",
    "                'space group': [], \n",
    "                'yield stress (MPa)': [], \n",
    "                'density (g/cm^3)': [], \n",
    "                'band gap (eV)': []}\n",
    "\n",
    "for i in range(len(elasticity_data)):\n",
    "    if elasticity_data[i]['band_gap'] == 0:\n",
    "        continue\n",
    "    bulk_modulus = elasticity_data[i]['elasticity']['K_Voigt_Reuss_Hill']\n",
    "    if elasticity_data[i]['elasticity']['G_Voigt_Reuss_Hill'] > 0:\n",
    "        shear_modulus = elasticity_data[i]['elasticity']['G_Voigt_Reuss_Hill']\n",
    "    elif elasticity_data[i]['elasticity']['G_Voigt'] > 0:\n",
    "        shear_modulus = elasticity_data[i]['elasticity']['G_Voigt']\n",
    "    elif elasticity_data[i]['elasticity']['G_Reuss'] > 0:\n",
    "        shear_modulus = elasticity_data[i]['elasticity']['G_Reuss']\n",
    "    poisson_ratio = elasticity_data[i]['elasticity']['poisson_ratio']\n",
    "    if 3*bulk_modulus + shear_modulus == 0:\n",
    "        continue\n",
    "    young_modulus = 9*bulk_modulus*shear_modulus/(3*bulk_modulus + shear_modulus)\n",
    "    if young_modulus == 0 or shear_modulus == 0:\n",
    "        continue\n",
    "    \n",
    "    elasticity_dict['formula'].append(str(elasticity_data[i]['pretty_formula']) + '-' + str(elasticity_data[i]['task_id'])) \n",
    "    elasticity_dict['space group'].append(str(elasticity_data[i]['spacegroup']['symbol']))\n",
    "    elasticity_dict['yield stress (MPa)'].append(yield_strength(young_modulus)[0])\n",
    "    elasticity_dict['density (g/cm^3)'].append(str(round(elasticity_data[i]['density'], 4)))\n",
    "    elasticity_dict['band gap (eV)'].append(str(round(elasticity_data[i]['band_gap'], 4)))\n",
    "    \n",
    "    plot_stress_strain_curve(young_modulus)"
   ]
  },
  {
   "cell_type": "code",
   "execution_count": 5,
   "metadata": {},
   "outputs": [],
   "source": [
    "df = pd.DataFrame(data = elasticity_dict).sort_values(by = ['yield stress (MPa)'], ascending = False)\n",
    "df.to_csv('elasticity-data.csv', index = False)"
   ]
  }
 ],
 "metadata": {
  "kernelspec": {
   "display_name": "Python 3",
   "language": "python",
   "name": "python3"
  },
  "language_info": {
   "codemirror_mode": {
    "name": "ipython",
    "version": 3
   },
   "file_extension": ".py",
   "mimetype": "text/x-python",
   "name": "python",
   "nbconvert_exporter": "python",
   "pygments_lexer": "ipython3",
   "version": "3.7.9"
  }
 },
 "nbformat": 4,
 "nbformat_minor": 4
}
