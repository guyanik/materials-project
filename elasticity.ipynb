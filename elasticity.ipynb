{
 "cells": [
  {
   "cell_type": "code",
   "execution_count": 1,
   "metadata": {},
   "outputs": [],
   "source": [
    "from pymatgen.ext.matproj import MPRester, Composition\n",
    "import numpy as np\n",
    "import pandas as pd\n",
    "from matplotlib import pyplot as plt\n",
    "import json\n",
    "import math\n",
    "import pprint\n",
    "%matplotlib inline  \n"
   ]
  },
  {
   "cell_type": "code",
   "execution_count": null,
   "metadata": {},
   "outputs": [
    {
     "data": {
      "application/vnd.jupyter.widget-view+json": {
       "model_id": "3f0c29be83514f028e09b95df4f381b7",
       "version_major": 2,
       "version_minor": 0
      },
      "text/plain": [
       "  0%|          | 0/13172 [00:00<?, ?it/s]"
      ]
     },
     "metadata": {},
     "output_type": "display_data"
    }
   ],
   "source": [
    "# get data from the materials project\n",
    "with MPRester(\"8kovBjpngTHHQ1juZK\") as m:\n",
    "    elasticity_data = m.query({\"elasticity\": {\"$exists\": True}}, properties=[\"task_id\", \n",
    "                                                                          \"pretty_formula\", \n",
    "                                                                          \"spacegroup\", \n",
    "                                                                          \"band_gap\", \n",
    "                                                                          \"elasticity\", \n",
    "                                                                          \"density\"])\n",
    "    with open('elasticity-data.json', 'w') as f:\n",
    "        json.dump(elasticity_data, f)"
   ]
  },
  {
   "cell_type": "code",
   "execution_count": null,
   "metadata": {},
   "outputs": [],
   "source": [
    "# load data from json file \n",
    "# with open('elasticity-data.json', 'r') as f:\n",
    "#     elastic_data = json.load(f)\n",
    "pprint.pprint(elasticity_data[4])"
   ]
  },
  {
   "cell_type": "code",
   "execution_count": null,
   "metadata": {},
   "outputs": [],
   "source": [
    "def stress_to_strain(stress):\n",
    "    strain = []\n",
    "    strain.append((1/young_modulus)*(stress[0] - poisson_ratio*(stress[1] + stress[2])))\n",
    "    strain.append((1/young_modulus)*(stress[1] - poisson_ratio*(stress[0] + stress[2])))\n",
    "    strain.append((1/young_modulus)*(stress[2] - poisson_ratio*(stress[0] + stress[1])))\n",
    "    strain.append((1/shear_modulus)*stress[3])\n",
    "    strain.append((1/shear_modulus)*stress[4])\n",
    "    strain.append((1/shear_modulus)*stress[5])\n",
    "    return strain\n",
    "\n",
    "def plot_stress_strain_curve(young_modulus):\n",
    "    stress_list = np.linspace(0, .002*young_modulus, 100)\n",
    "    strain_list = []\n",
    "    for stress_norm in stress_list:\n",
    "        s = stress_norm/math.sqrt(6)\n",
    "        stress = [s,s,s,s,s,s]\n",
    "        strain = stress_to_strain(stress)\n",
    "        strain_list.append(np.linalg.norm(strain))\n",
    "    return plt.plot(strain_list, 1000*stress_list)\n",
    "\n",
    "def yield_strength(young_modulus):\n",
    "    stress = .002*young_modulus\n",
    "    s = stress/math.sqrt(6)\n",
    "    strain = stress_to_strain([s,s,s,s,s,s])\n",
    "    strain = np.linalg.norm(np.array(strain))\n",
    "    return [round(stress*1000), round(strain, 4)]\n",
    "\n",
    "elasticity_dict = {'formula': [], \n",
    "                'space group': [], \n",
    "                'yield stress (MPa)': [], \n",
    "                'density (g/cm^3)': [], \n",
    "                'band gap (eV)': []}\n",
    "\n",
    "for i in range(len(elasticity_data)):\n",
    "    if elasticity_data[i]['band_gap'] == 0:\n",
    "        continue\n",
    "    bulk_modulus = elasticity_data[i]['elasticity']['K_Voigt_Reuss_Hill']\n",
    "    if elasticity_data[i]['elasticity']['G_Voigt_Reuss_Hill'] > 0:\n",
    "        shear_modulus = elasticity_data[i]['elasticity']['G_Voigt_Reuss_Hill']\n",
    "    elif elasticity_data[i]['elasticity']['G_Voigt'] > 0:\n",
    "        shear_modulus = elasticity_data[i]['elasticity']['G_Voigt']\n",
    "    elif elasticity_data[i]['elasticity']['G_Reuss'] > 0:\n",
    "        shear_modulus = elasticity_data[i]['elasticity']['G_Reuss']\n",
    "    poisson_ratio = elasticity_data[i]['elasticity']['poisson_ratio']\n",
    "    if 3*bulk_modulus + shear_modulus == 0:\n",
    "        continue\n",
    "    young_modulus = 9*bulk_modulus*shear_modulus/(3*bulk_modulus + shear_modulus)\n",
    "    if young_modulus == 0 or shear_modulus == 0:\n",
    "        continue\n",
    "    \n",
    "    elasticity_dict['formula'].append(str(elasticity_data[i]['pretty_formula']) + '-' + str(elasticity_data[i]['task_id'])) \n",
    "    elasticity_dict['space group'].append(str(elasticity_data[i]['spacegroup']['symbol']))\n",
    "    elasticity_dict['yield stress (MPa)'].append(yield_strength(young_modulus)[0])\n",
    "    elasticity_dict['density (g/cm^3)'].append(str(round(elasticity_data[i]['density'], 4)))\n",
    "    elasticity_dict['band gap (eV)'].append(str(round(elasticity_data[i]['band_gap'], 4)))\n",
    "    \n",
    "    plot_stress_strain_curve(young_modulus)"
   ]
  },
  {
   "cell_type": "code",
   "execution_count": null,
   "metadata": {},
   "outputs": [],
   "source": [
    "df = pd.DataFrame(data = elasticity_dict).sort_values(by = ['yield stress (MPa)'], ascending = False)\n",
    "df.to_csv('elasticity-data.csv', index = False)"
   ]
  }
 ],
 "metadata": {
  "kernelspec": {
   "display_name": "Python 3",
   "language": "python",
   "name": "python3"
  },
  "language_info": {
   "codemirror_mode": {
    "name": "ipython",
    "version": 3
   },
   "file_extension": ".py",
   "mimetype": "text/x-python",
   "name": "python",
   "nbconvert_exporter": "python",
   "pygments_lexer": "ipython3",
   "version": "3.7.9"
  }
 },
 "nbformat": 4,
 "nbformat_minor": 4
}
