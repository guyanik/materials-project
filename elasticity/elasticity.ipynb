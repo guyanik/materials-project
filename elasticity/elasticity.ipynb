{
 "cells": [
  {
   "cell_type": "code",
   "execution_count": 1,
   "metadata": {},
   "outputs": [],
   "source": [
    "from pymatgen.ext.matproj import MPRester, Composition\n",
    "import numpy as np\n",
    "import pandas as pd\n",
    "from matplotlib import pyplot as plt\n",
    "import json\n",
    "import math\n",
    "import pprint\n",
    "%matplotlib inline  \n"
   ]
  },
  {
   "cell_type": "code",
   "execution_count": 2,
   "metadata": {},
   "outputs": [
    {
     "data": {
      "application/vnd.jupyter.widget-view+json": {
       "model_id": "c2e424f1e2544903a81e024b53aa7cab",
       "version_major": 2,
       "version_minor": 0
      },
      "text/plain": [
       "  0%|          | 0/13172 [00:00<?, ?it/s]"
      ]
     },
     "metadata": {},
     "output_type": "display_data"
    }
   ],
   "source": [
    "# get data from materials project\n",
    "with MPRester(\"8kovBjpngTHHQ1juZK\") as m:\n",
    "    elasticity_data = m.query({\"elasticity\": {\"$exists\": True}}, properties=[\"task_id\", \n",
    "                                                                          \"pretty_formula\", \n",
    "                                                                          \"spacegroup\", \n",
    "                                                                          \"band_gap\", \n",
    "                                                                          \"elasticity\", \n",
    "                                                                          \"density\"])\n",
    "    with open('elasticity-data.json', 'w') as f:\n",
    "        json.dump(elasticity_data, f)"
   ]
  },
  {
   "cell_type": "code",
   "execution_count": 3,
   "metadata": {},
   "outputs": [
    {
     "name": "stdout",
     "output_type": "stream",
     "text": [
      "{'band_gap': 0.0,\n",
      " 'density': 3.0370937819433053,\n",
      " 'elasticity': {'G_Reuss': -77.0,\n",
      "                'G_VRH': -28.0,\n",
      "                'G_Voigt': 22.0,\n",
      "                'G_Voigt_Reuss_Hill': -28.0,\n",
      "                'K_Reuss': 83.0,\n",
      "                'K_VRH': 84.0,\n",
      "                'K_Voigt': 86.0,\n",
      "                'K_Voigt_Reuss_Hill': 84.0,\n",
      "                'compliance_tensor': [[10.2, -4.5, -1.0, 0.0, 0.0, 0.0],\n",
      "                                      [-4.5, 11.9, -2.6, 0.0, 0.0, -0.0],\n",
      "                                      [-1.0, -2.6, 6.1, 0.0, 0.0, 0.0],\n",
      "                                      [-0.0, -0.0, -0.0, -39.6, -0.0, -0.0],\n",
      "                                      [0.0, 0.0, 0.0, 0.0, 19.4, 0.0],\n",
      "                                      [0.0, -0.0, 0.0, -0.0, -0.0, -92.9]],\n",
      "                'elastic_anisotropy': -6.38,\n",
      "                'elastic_tensor': [[128.0, 58.0, 45.0, 0.0, 0.0, 0.0],\n",
      "                                   [58.0, 119.0, 59.0, 0.0, 0.0, 0.0],\n",
      "                                   [45.0, 59.0, 196.0, 0.0, 0.0, 0.0],\n",
      "                                   [0.0, 0.0, 0.0, -25.0, 0.0, 0.0],\n",
      "                                   [0.0, 0.0, 0.0, 0.0, 52.0, 0.0],\n",
      "                                   [0.0, 0.0, 0.0, 0.0, 0.0, -11.0]],\n",
      "                'elastic_tensor_original': [[127.83743275158888,\n",
      "                                             62.205972481544165,\n",
      "                                             48.98191929220887,\n",
      "                                             0.0,\n",
      "                                             0.0,\n",
      "                                             0.0],\n",
      "                                            [54.46552732020511,\n",
      "                                             119.32194116337931,\n",
      "                                             53.94084143131033,\n",
      "                                             0.0,\n",
      "                                             0.0,\n",
      "                                             0.0],\n",
      "                                            [42.015077394580715,\n",
      "                                             64.98908020040007,\n",
      "                                             195.8859170540447,\n",
      "                                             0.0,\n",
      "                                             0.0,\n",
      "                                             0.0],\n",
      "                                            [0.0003171265141177121,\n",
      "                                             -0.00013393343660554483,\n",
      "                                             0.00022914658018473826,\n",
      "                                             -25.279858799715413,\n",
      "                                             0.0,\n",
      "                                             0.0],\n",
      "                                            [1.5733496895879086e-06,\n",
      "                                             -3.1466998935135012e-06,\n",
      "                                             -1.6166697454865082e-06,\n",
      "                                             0.0,\n",
      "                                             51.610584963108735,\n",
      "                                             0.0],\n",
      "                                            [0.03633725356736606,\n",
      "                                             -0.022187405952602605,\n",
      "                                             0.027488344091255338,\n",
      "                                             0.0,\n",
      "                                             0.0,\n",
      "                                             -10.766875439160591]],\n",
      "                'homogeneous_poisson': 0.69,\n",
      "                'nsites': 4,\n",
      "                'poisson_ratio': 0.69,\n",
      "                'universal_anisotropy': -6.38,\n",
      "                'warnings': ['Elastic tensor has a negative eigenvalue',\n",
      "                             'One or more K, G below 2 GPa',\n",
      "                             'Inequivalent optimization structure']},\n",
      " 'pretty_formula': 'Si',\n",
      " 'spacegroup': {'crystal_system': 'orthorhombic',\n",
      "                'hall': '-C 2c 2',\n",
      "                'number': 63,\n",
      "                'point_group': 'mmm',\n",
      "                'source': 'spglib',\n",
      "                'symbol': 'Cmcm',\n",
      "                'symprec': 0.1},\n",
      " 'task_id': 'mp-1001113'}\n"
     ]
    }
   ],
   "source": [
    "# load data from json file \n",
    "# with open('elasticity-data.json', 'r') as f:\n",
    "#     elasticity_data = json.load(f)\n",
    "pprint.pprint(elasticity_data[4])"
   ]
  },
  {
   "cell_type": "code",
   "execution_count": 4,
   "metadata": {},
   "outputs": [
    {
     "data": {
      "image/png": "[encoded data removed]",
      "text/plain": [
       "<Figure size 432x288 with 1 Axes>"
      ]
     },
     "metadata": {
      "needs_background": "light"
     },
     "output_type": "display_data"
    }
   ],
   "source": [
    "def stress_to_strain(stress):\n",
    "    strain = []\n",
    "    strain.append((1/young_modulus)*(stress[0] - poisson_ratio*(stress[1] + stress[2])))\n",
    "    strain.append((1/young_modulus)*(stress[1] - poisson_ratio*(stress[0] + stress[2])))\n",
    "    strain.append((1/young_modulus)*(stress[2] - poisson_ratio*(stress[0] + stress[1])))\n",
    "    strain.append((1/shear_modulus)*stress[3])\n",
    "    strain.append((1/shear_modulus)*stress[4])\n",
    "    strain.append((1/shear_modulus)*stress[5])\n",
    "    return strain\n",
    "\n",
    "def plot_stress_strain_curve(young_modulus):\n",
    "    stress_list = np.linspace(0, .002*young_modulus, 100)\n",
    "    strain_list = []\n",
    "    for stress_norm in stress_list:\n",
    "        s = stress_norm/math.sqrt(6)\n",
    "        stress = [s,s,s,s,s,s]\n",
    "        strain = stress_to_strain(stress)\n",
    "        strain_list.append(np.linalg.norm(strain))\n",
    "    return plt.plot(strain_list, 1000*stress_list)\n",
    "\n",
    "def yield_strength(young_modulus):\n",
    "    stress = .002*young_modulus\n",
    "    s = stress/math.sqrt(6)\n",
    "    strain = stress_to_strain([s,s,s,s,s,s])\n",
    "    strain = np.linalg.norm(np.array(strain))\n",
    "    return [round(stress*1000), round(strain, 4)]\n",
    "\n",
    "elasticity_dict = {'formula': [], \n",
    "                'space group': [], \n",
    "                'yield stress (MPa)': [], \n",
    "                'density (g/cm^3)': [], \n",
    "                'band gap (eV)': []}\n",
    "\n",
    "for i in range(len(elasticity_data)):\n",
    "    if elasticity_data[i]['band_gap'] == 0:\n",
    "        continue\n",
    "    bulk_modulus = elasticity_data[i]['elasticity']['K_Voigt_Reuss_Hill']\n",
    "    if elasticity_data[i]['elasticity']['G_Voigt_Reuss_Hill'] > 0:\n",
    "        shear_modulus = elasticity_data[i]['elasticity']['G_Voigt_Reuss_Hill']\n",
    "    elif elasticity_data[i]['elasticity']['G_Voigt'] > 0:\n",
    "        shear_modulus = elasticity_data[i]['elasticity']['G_Voigt']\n",
    "    elif elasticity_data[i]['elasticity']['G_Reuss'] > 0:\n",
    "        shear_modulus = elasticity_data[i]['elasticity']['G_Reuss']\n",
    "    poisson_ratio = elasticity_data[i]['elasticity']['poisson_ratio']\n",
    "    if 3*bulk_modulus + shear_modulus == 0:\n",
    "        continue\n",
    "    young_modulus = 9*bulk_modulus*shear_modulus/(3*bulk_modulus + shear_modulus)\n",
    "    if young_modulus == 0 or shear_modulus == 0:\n",
    "        continue\n",
    "    \n",
    "    elasticity_dict['formula'].append(str(elasticity_data[i]['pretty_formula']) + '-' + str(elasticity_data[i]['task_id'])) \n",
    "    elasticity_dict['space group'].append(str(elasticity_data[i]['spacegroup']['symbol']))\n",
    "    elasticity_dict['yield stress (MPa)'].append(yield_strength(young_modulus)[0])\n",
    "    elasticity_dict['density (g/cm^3)'].append(str(round(elasticity_data[i]['density'], 4)))\n",
    "    elasticity_dict['band gap (eV)'].append(str(round(elasticity_data[i]['band_gap'], 4)))\n",
    "    \n",
    "    plot_stress_strain_curve(young_modulus)"
   ]
  },
  {
   "cell_type": "code",
   "execution_count": 5,
   "metadata": {},
   "outputs": [],
   "source": [
    "df = pd.DataFrame(data = elasticity_dict).sort_values(by = ['yield stress (MPa)'], ascending = False)\n",
    "df.to_csv('elasticity-data.csv', index = False)"
   ]
  }
 ],
 "metadata": {
  "kernelspec": {
   "display_name": "Python 3",
   "language": "python",
   "name": "python3"
  },
  "language_info": {
   "codemirror_mode": {
    "name": "ipython",
    "version": 3
   },
   "file_extension": ".py",
   "mimetype": "text/x-python",
   "name": "python",
   "nbconvert_exporter": "python",
   "pygments_lexer": "ipython3",
   "version": "3.7.9"
  }
 },
 "nbformat": 4,
 "nbformat_minor": 4
}
